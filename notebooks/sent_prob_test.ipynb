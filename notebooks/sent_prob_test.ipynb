{
 "cells": [
  {
   "cell_type": "code",
   "execution_count": 1,
   "metadata": {},
   "outputs": [],
   "source": [
    "import os\n",
    "import sys\n",
    "from tqdm import tqdm\n",
    "\n",
    "sys.path.insert(0, os.path.abspath('../src'))\n",
    "from __init__ import BertLM"
   ]
  },
  {
   "cell_type": "code",
   "execution_count": 2,
   "metadata": {},
   "outputs": [],
   "source": [
    "bert_model=BertLM()"
   ]
  },
  {
   "cell_type": "code",
   "execution_count": null,
   "metadata": {},
   "outputs": [],
   "source": [
    "# for _ in tqdm(range(1000)):\n",
    "#     bert_model.get_sentence_prob('This is a test.', verbose=False)"
   ]
  },
  {
   "cell_type": "code",
   "execution_count": 3,
   "metadata": {},
   "outputs": [
    {
     "data": {
      "text/plain": [
       "-1.4550091058015824"
      ]
     },
     "execution_count": 3,
     "metadata": {},
     "output_type": "execute_result"
    }
   ],
   "source": [
    "bert_model.get_sentence_prob('This is a test.', verbose=False)"
   ]
  },
  {
   "cell_type": "code",
   "execution_count": 12,
   "metadata": {},
   "outputs": [
    {
     "name": "stdout",
     "output_type": "stream",
     "text": [
      "Processing sentence: ['[CLS]', 'this', 'is', 'a', 'test', '.', '[SEP]']\n",
      "['[CLS]', '[MASK]', 'is', 'a', 'test', '.', '[SEP]']\n",
      "Word: this \t Prob: 0.4260718822479248\n",
      "Ordered top predicted tokens: ['this', 'it', 'that', 'there', 'he']\n",
      "Ordered top predicted values: [0.42607188 0.4216501  0.03309584 0.01029726 0.00922118]\n",
      "['[CLS]', 'this', '[MASK]', 'a', 'test', '.', '[SEP]']\n",
      "Word: is \t Prob: 0.205582857131958\n",
      "Ordered top predicted tokens: ['was', 'is', 'needed', 'became', 'meant']\n",
      "Ordered top predicted values: [7.9215467e-01 2.0558286e-01 4.4922929e-04 1.8932037e-04 8.0040300e-05]\n",
      "['[CLS]', 'this', 'is', '[MASK]', 'test', '.', '[SEP]']\n",
      "Word: a \t Prob: 0.3056842088699341\n",
      "Ordered top predicted tokens: ['a', 'the', 'my', 'your', 'our']\n",
      "Ordered top predicted values: [0.3056842  0.22704133 0.22436006 0.09383067 0.04398353]\n",
      "['[CLS]', 'this', 'is', 'a', '[MASK]', '.', '[SEP]']\n",
      "Word: test \t Prob: 0.028352467343211174\n",
      "Ordered top predicted tokens: ['dream', 'mistake', 'test', 'game', 'lie']\n",
      "Ordered top predicted values: [0.03235782 0.03046771 0.02835247 0.02517525 0.02490898]\n",
      "['[CLS]', 'this', 'is', 'a', 'test', '[MASK]', '[SEP]']\n",
      "Word: . \t Prob: 0.9123347401618958\n",
      "Ordered top predicted tokens: ['.', '!', ';', '?', '...']\n",
      "Ordered top predicted values: [9.1233474e-01 4.2931620e-02 3.0489564e-02 1.4132848e-02 3.6297850e-05]\n",
      "\n",
      "Normalized sentence prob: log(P(sentence)) / sent_length: -1.4550091058015824\n",
      "\n",
      "Processing sentence: ['[CLS]', 'this', 'is', 'a', 'robbery', '.', '[SEP]']\n",
      "['[CLS]', '[MASK]', 'is', 'a', 'robbery', '.', '[SEP]']\n",
      "Word: this \t Prob: 0.49643653631210327\n",
      "Ordered top predicted tokens: ['this', 'it', 'there', 'that', 'here']\n",
      "Ordered top predicted values: [0.49643654 0.40864468 0.08155321 0.00235947 0.00160828]\n",
      "['[CLS]', 'this', '[MASK]', 'a', 'robbery', '.', '[SEP]']\n",
      "Word: is \t Prob: 0.23904842138290405\n",
      "Ordered top predicted tokens: ['was', 'is', 'meant', 'time', 'means']\n",
      "Ordered top predicted values: [7.5263804e-01 2.3904842e-01 1.0364348e-03 5.2793184e-04 3.9446409e-04]\n",
      "['[CLS]', 'this', 'is', '[MASK]', 'robbery', '.', '[SEP]']\n",
      "Word: a \t Prob: 0.65253746509552\n",
      "Ordered top predicted tokens: ['a', 'not', 'no', 'called', 'the']\n",
      "Ordered top predicted values: [0.65253747 0.0590951  0.02081909 0.0194289  0.01929825]\n",
      "['[CLS]', 'this', 'is', 'a', '[MASK]', '.', '[SEP]']\n",
      "Word: robbery \t Prob: 7.506299152737483e-05\n",
      "Ordered top predicted tokens: ['dream', 'mistake', 'test', 'game', 'lie']\n",
      "Ordered top predicted values: [0.03235782 0.03046771 0.02835247 0.02517525 0.02490898]\n",
      "['[CLS]', 'this', 'is', 'a', 'robbery', '[MASK]', '[SEP]']\n",
      "Word: . \t Prob: 0.8553212285041809\n",
      "Ordered top predicted tokens: ['.', '!', ';', '?', '...']\n",
      "Ordered top predicted values: [8.5532123e-01 1.2131081e-01 1.2036337e-02 1.1292188e-02 2.0147412e-05]\n",
      "\n",
      "Normalized sentence prob: log(P(sentence)) / sent_length: -2.4423473089933396\n",
      "\n",
      "Processing sentence: ['[CLS]', 'this', 'is', 'a', 'sentence', '.', '[SEP]']\n",
      "['[CLS]', '[MASK]', 'is', 'a', 'sentence', '.', '[SEP]']\n",
      "Word: this \t Prob: 0.16919253766536713\n",
      "Ordered top predicted tokens: ['it', 'this', 'there', 'that', 'life']\n",
      "Ordered top predicted values: [0.54765344 0.16919254 0.040046   0.03957241 0.02524182]\n",
      "['[CLS]', 'this', '[MASK]', 'a', 'sentence', '.', '[SEP]']\n",
      "Word: is \t Prob: 0.366877943277359\n",
      "Ordered top predicted tokens: ['was', 'is', 'became', 'time', 'meant']\n",
      "Ordered top predicted values: [6.1543822e-01 3.6687794e-01 1.9319432e-03 1.5436218e-03 5.2906142e-04]\n",
      "['[CLS]', 'this', 'is', '[MASK]', 'sentence', '.', '[SEP]']\n",
      "Word: a \t Prob: 0.4173295497894287\n",
      "Ordered top predicted tokens: ['a', 'the', 'my', 'your', 'his']\n",
      "Ordered top predicted values: [0.41732955 0.24609415 0.14315434 0.02956589 0.0288682 ]\n",
      "['[CLS]', 'this', 'is', 'a', '[MASK]', '.', '[SEP]']\n",
      "Word: sentence \t Prob: 6.547172961290926e-05\n",
      "Ordered top predicted tokens: ['dream', 'mistake', 'test', 'game', 'lie']\n",
      "Ordered top predicted values: [0.03235782 0.03046771 0.02835247 0.02517525 0.02490898]\n",
      "['[CLS]', 'this', 'is', 'a', 'sentence', '[MASK]', '[SEP]']\n",
      "Word: . \t Prob: 0.9075567722320557\n",
      "Ordered top predicted tokens: ['.', ';', '!', '?', '|']\n",
      "Ordered top predicted values: [9.0755677e-01 7.2322965e-02 1.3783690e-02 5.3881891e-03 8.1569952e-04]\n",
      "\n",
      "Normalized sentence prob: log(P(sentence)) / sent_length: -2.6768428534269333\n",
      "\n",
      "Processing sentence: ['[CLS]', 'this', 'is', 'a', 'a', '.', '[SEP]']\n",
      "['[CLS]', '[MASK]', 'is', 'a', 'a', '.', '[SEP]']\n",
      "Word: this \t Prob: 0.0036940842401236296\n",
      "Ordered top predicted tokens: ['he', 'she', 'there', 'smith', 'it']\n",
      "Ordered top predicted values: [0.4371615  0.13645998 0.04090213 0.01132955 0.00676801]\n",
      "['[CLS]', 'this', '[MASK]', 'a', 'a', '.', '[SEP]']\n",
      "Word: is \t Prob: 0.7098957300186157\n",
      "Ordered top predicted tokens: ['is', 'was', 'time', 'has', 'became']\n",
      "Ordered top predicted values: [0.70989573 0.17488849 0.01418825 0.00573631 0.00384605]\n",
      "['[CLS]', 'this', 'is', '[MASK]', 'a', '.', '[SEP]']\n",
      "Word: a \t Prob: 0.051668886095285416\n",
      "Ordered top predicted tokens: ['the', 'an', 'a', 'type', 'not']\n",
      "Ordered top predicted values: [0.24794514 0.16726987 0.05166889 0.01478874 0.01451447]\n",
      "['[CLS]', 'this', 'is', 'a', '[MASK]', '.', '[SEP]']\n",
      "Word: a \t Prob: 1.81552859430667e-05\n",
      "Ordered top predicted tokens: ['dream', 'mistake', 'test', 'game', 'lie']\n",
      "Ordered top predicted values: [0.03235782 0.03046771 0.02835247 0.02517525 0.02490898]\n",
      "['[CLS]', 'this', 'is', 'a', 'a', '[MASK]', '[SEP]']\n",
      "Word: . \t Prob: 0.736351490020752\n",
      "Ordered top predicted tokens: ['.', ';', '|', '!', '?']\n",
      "Ordered top predicted values: [0.7363515  0.18545225 0.03728416 0.03547234 0.00519298]\n",
      "\n",
      "Normalized sentence prob: log(P(sentence)) / sent_length: -4.025831151008606\n",
      "\n",
      "Processing sentence: ['[CLS]', 'this', 'is', 'a', 'mac', '##ram', '##e', '.', '[SEP]']\n",
      "['[CLS]', '[MASK]', 'is', 'a', 'mac', '##ram', '##e', '.', '[SEP]']\n",
      "Word: this \t Prob: 0.06995750218629837\n",
      "Ordered top predicted tokens: ['it', 'this', 'there', 'he', 'that']\n",
      "Ordered top predicted values: [0.8618048  0.0699575  0.02746578 0.00282901 0.00164153]\n",
      "['[CLS]', 'this', '[MASK]', 'a', 'mac', '##ram', '##e', '.', '[SEP]']\n",
      "Word: is \t Prob: 0.8059344291687012\n",
      "Ordered top predicted tokens: ['is', 'was', 'has', 'resembles', 'includes']\n",
      "Ordered top predicted values: [0.8059344  0.14677647 0.00251259 0.00214571 0.00181202]\n",
      "['[CLS]', 'this', 'is', '[MASK]', 'mac', '##ram', '##e', '.', '[SEP]']\n",
      "Word: a \t Prob: 0.3107656240463257\n",
      "Ordered top predicted tokens: ['a', 'the', 'called', 'not', 'another']\n",
      "Ordered top predicted values: [0.31076562 0.24131534 0.1898963  0.01890805 0.01177635]\n",
      "['[CLS]', 'this', 'is', 'a', '[MASK]', '##ram', '##e', '.', '[SEP]']\n",
      "Word: mac \t Prob: 0.4050573706626892\n",
      "Ordered top predicted tokens: ['mac', 'ce', 'side', 'cup', 'semi']\n",
      "Ordered top predicted values: [0.40505737 0.0790267  0.05402635 0.0435847  0.03299322]\n",
      "['[CLS]', 'this', 'is', 'a', 'mac', '[MASK]', '##e', '.', '[SEP]']\n",
      "Word: ##ram \t Prob: 0.2340756058692932\n",
      "Ordered top predicted tokens: ['##ram', '##ula', '##out', '##abe', '##are']\n",
      "Ordered top predicted values: [0.2340756  0.13345419 0.10716671 0.05448193 0.03716443]\n",
      "['[CLS]', 'this', 'is', 'a', 'mac', '##ram', '[MASK]', '.', '[SEP]']\n",
      "Word: ##e \t Prob: 0.7259987592697144\n",
      "Ordered top predicted tokens: ['##e', '##id', '##i', 'plant', 'virus']\n",
      "Ordered top predicted values: [0.72599876 0.0952542  0.03262086 0.01331557 0.00876465]\n",
      "['[CLS]', 'this', 'is', 'a', 'mac', '##ram', '##e', '[MASK]', '[SEP]']\n",
      "Word: . \t Prob: 0.9112837910652161\n",
      "Ordered top predicted tokens: ['.', ';', '!', '?', '|']\n",
      "Ordered top predicted values: [9.1128379e-01 7.5437672e-02 8.2414346e-03 4.5370557e-03 3.7746594e-04]\n",
      "\n",
      "Normalized sentence prob: log(P(sentence)) / sent_length: -0.9733260146209172\n",
      "\n"
     ]
    },
    {
     "data": {
      "text/plain": [
       "-0.9733260146209172"
      ]
     },
     "execution_count": 12,
     "metadata": {},
     "output_type": "execute_result"
    }
   ],
   "source": [
    "bert_model.get_sentence_prob('This is a test.', verbose=True)\n",
    "bert_model.get_sentence_prob('This is a robbery.', verbose=True)\n",
    "bert_model.get_sentence_prob('This is a sentence.', verbose=True)\n",
    "bert_model.get_sentence_prob('This is a a.', verbose=True)\n",
    "bert_model.get_sentence_prob('This is a macrame.', verbose=True)"
   ]
  },
  {
   "cell_type": "code",
   "execution_count": null,
   "metadata": {},
   "outputs": [],
   "source": [
    "import numpy as np"
   ]
  },
  {
   "cell_type": "code",
   "execution_count": null,
   "metadata": {},
   "outputs": [],
   "source": [
    "a = np.zeros((3,2))\n",
    "a"
   ]
  },
  {
   "cell_type": "code",
   "execution_count": null,
   "metadata": {},
   "outputs": [],
   "source": []
  },
  {
   "cell_type": "code",
   "execution_count": null,
   "metadata": {},
   "outputs": [],
   "source": []
  }
 ],
 "metadata": {
  "kernelspec": {
   "display_name": "Python [conda env:transformers]",
   "language": "python",
   "name": "conda-env-transformers-py"
  },
  "language_info": {
   "codemirror_mode": {
    "name": "ipython",
    "version": 3
   },
   "file_extension": ".py",
   "mimetype": "text/x-python",
   "name": "python",
   "nbconvert_exporter": "python",
   "pygments_lexer": "ipython3",
   "version": "3.7.6"
  }
 },
 "nbformat": 4,
 "nbformat_minor": 2
}
