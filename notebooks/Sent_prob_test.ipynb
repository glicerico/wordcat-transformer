{
 "cells": [
  {
   "cell_type": "code",
   "execution_count": 1,
   "metadata": {},
   "outputs": [],
   "source": [
    "import os\n",
    "import sys\n",
    "sys.path.insert(0, os.path.abspath('../src'))\n",
    "from sentence_prob import BERT"
   ]
  },
  {
   "cell_type": "code",
   "execution_count": 2,
   "metadata": {},
   "outputs": [],
   "source": [
    "bert_model=BERT()"
   ]
  },
  {
   "cell_type": "code",
   "execution_count": 6,
   "metadata": {},
   "outputs": [
    {
     "name": "stdout",
     "output_type": "stream",
     "text": [
      "Processing sentence: ['[CLS]', 'this', 'is', 'a', 'test', '.', '[SEP]']\n",
      "['[CLS]', '[MASK]', 'is', 'a', 'test', '.', '[SEP]']\n",
      "Word: this \t Prob: 0.4260718822479248\n",
      "Ordered top predicted tokens: ['this', 'it', 'that', 'there', 'he']\n",
      "Ordered top predicted values: [0.42607188 0.4216501  0.03309584 0.01029726 0.00922118]\n",
      "['[CLS]', 'this', '[MASK]', 'a', 'test', '.', '[SEP]']\n",
      "Word: is \t Prob: 0.205582857131958\n",
      "Ordered top predicted tokens: ['was', 'is', 'needed', 'became', 'meant']\n",
      "Ordered top predicted values: [7.9215467e-01 2.0558286e-01 4.4922929e-04 1.8932037e-04 8.0040300e-05]\n",
      "['[CLS]', 'this', 'is', '[MASK]', 'test', '.', '[SEP]']\n",
      "Word: a \t Prob: 0.3056842088699341\n",
      "Ordered top predicted tokens: ['a', 'the', 'my', 'your', 'our']\n",
      "Ordered top predicted values: [0.3056842  0.22704133 0.22436006 0.09383067 0.04398353]\n",
      "['[CLS]', 'this', 'is', 'a', '[MASK]', '.', '[SEP]']\n",
      "Word: test \t Prob: 0.028352467343211174\n",
      "Ordered top predicted tokens: ['dream', 'mistake', 'test', 'game', 'lie']\n",
      "Ordered top predicted values: [0.03235782 0.03046771 0.02835247 0.02517525 0.02490898]\n",
      "['[CLS]', 'this', 'is', 'a', 'test', '[MASK]', '[SEP]']\n",
      "Word: . \t Prob: 0.9123347401618958\n",
      "Ordered top predicted tokens: ['.', '!', ';', '?', '...']\n",
      "Ordered top predicted values: [9.1233474e-01 4.2931620e-02 3.0489564e-02 1.4132848e-02 3.6297850e-05]\n",
      "\n",
      "Normalized sentence prob: log(P(sentence)) / sent_length: -1.4550091058015824\n",
      "\n"
     ]
    },
    {
     "data": {
      "text/plain": [
       "-1.4550091058015824"
      ]
     },
     "execution_count": 6,
     "metadata": {},
     "output_type": "execute_result"
    }
   ],
   "source": [
    "bert_model.get_sentence_prob('This is a test.', 'test', verbose=True)"
   ]
  },
  {
   "cell_type": "code",
   "execution_count": null,
   "metadata": {},
   "outputs": [],
   "source": []
  }
 ],
 "metadata": {
  "kernelspec": {
   "display_name": "Python [conda env:transformers]",
   "language": "python",
   "name": "conda-env-transformers-py"
  },
  "language_info": {
   "codemirror_mode": {
    "name": "ipython",
    "version": 3
   },
   "file_extension": ".py",
   "mimetype": "text/x-python",
   "name": "python",
   "nbconvert_exporter": "python",
   "pygments_lexer": "ipython3",
   "version": "3.7.6"
  }
 },
 "nbformat": 4,
 "nbformat_minor": 2
}
